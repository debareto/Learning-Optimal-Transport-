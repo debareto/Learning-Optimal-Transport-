{
 "cells": [
  {
   "cell_type": "markdown",
   "id": "52a7ef55",
   "metadata": {},
   "source": [
    "# Learning Optimal Transport "
   ]
  },
  {
   "cell_type": "markdown",
   "id": "fa02cfd7",
   "metadata": {},
   "source": [
    "# Imports"
   ]
  },
  {
   "cell_type": "code",
   "execution_count": 32,
   "id": "f16893ef",
   "metadata": {},
   "outputs": [],
   "source": [
    "import numpy as np\n",
    "\n",
    "import seaborn as sns\n",
    "import matplotlib.pyplot as plt\n",
    "\n",
    "import torch\n",
    "import torch.nn as nn\n",
    "from torch import optim\n",
    "import torch.nn.functional as F\n",
    "\n",
    "from torchvision import datasets, transforms\n",
    "\n",
    "from sklearn.datasets import fetch_openml\n",
    "\n",
    "\n",
    "import time \n",
    "\n",
    "import seaborn as sns\n",
    "\n"
   ]
  },
  {
   "cell_type": "code",
   "execution_count": 33,
   "id": "a5cd8121",
   "metadata": {},
   "outputs": [],
   "source": [
    "import ot"
   ]
  },
  {
   "cell_type": "markdown",
   "id": "a719ff7b",
   "metadata": {},
   "source": [
    "# Dataset"
   ]
  },
  {
   "cell_type": "code",
   "execution_count": 34,
   "id": "bcf87a75",
   "metadata": {},
   "outputs": [
    {
     "name": "stderr",
     "output_type": "stream",
     "text": [
      "c:\\Users\\debar\\Anaconda3\\envs\\insa\\Lib\\site-packages\\sklearn\\datasets\\_openml.py:968: FutureWarning: The default value of `parser` will change from `'liac-arff'` to `'auto'` in 1.4. You can set `parser='auto'` to silence this warning. Therefore, an `ImportError` will be raised from 1.4 if the dataset is dense and pandas is not installed. Note that the pandas parser may return different data types. See the Notes Section in fetch_openml's API doc for details.\n",
      "  warn(\n"
     ]
    }
   ],
   "source": [
    "# Data set \n",
    "\n",
    "# Load MNIST dataset from openml\n",
    "mnist = fetch_openml('mnist_784', version=1)\n",
    "\n",
    "# Extract features and labels\n",
    "X, y = mnist.data, mnist.target\n",
    "\n"
   ]
  },
  {
   "cell_type": "code",
   "execution_count": 35,
   "id": "e88862c8",
   "metadata": {},
   "outputs": [],
   "source": [
    "# extract two images of the dataset \n",
    "\n",
    "image1 = X.iloc[0].values.reshape(28, 28)  # Remodeler l'image en une matrice 28x28\n",
    "image2 = X.iloc[250].values.reshape(28, 28)  # Remodeler l'image en une matrice 28x28\n",
    "\n",
    "\n"
   ]
  },
  {
   "cell_type": "markdown",
   "id": "7c13a800",
   "metadata": {},
   "source": [
    "# Dataset functions"
   ]
  },
  {
   "cell_type": "markdown",
   "id": "759a53a7",
   "metadata": {},
   "source": [
    "## Get patches"
   ]
  },
  {
   "cell_type": "code",
   "execution_count": 36,
   "id": "c8aaa693",
   "metadata": {},
   "outputs": [],
   "source": [
    "size_image = 28\n",
    "nb_patches = 5\n",
    "patch_size = 12\n",
    "\n",
    "\n",
    "# from two images, this function return two np.array of nb_patches patches taken a random positions in the image\n",
    "def get_patches(image1, image2, size_image, nb_patches, patch_size):\n",
    "    \n",
    "\n",
    "#     list to store the patches temporarly (will be converted in np array)\n",
    "    points_im1 = []\n",
    "    points_im2 = []\n",
    "\n",
    "\n",
    "    coord_patches = np.random.randint(patch_size//2, size_image-(patch_size//2) , (nb_patches,2))\n",
    "\n",
    "    for coord in coord_patches: \n",
    "\n",
    "        x_start = coord[0] - patch_size // 2\n",
    "        x_end = x_start + patch_size\n",
    "        y_start = coord[1] - patch_size // 2\n",
    "        y_end = y_start + patch_size\n",
    "\n",
    "\n",
    "        patch1 = image1[x_start:x_end, y_start:y_end]\n",
    "        patch2 = image2[x_start:x_end, y_start:y_end]\n",
    "\n",
    "        points_im1.append(patch1)\n",
    "        points_im2.append(patch2)\n",
    "\n",
    "\n",
    "    # convert into a np.array dimesion (nb_patch, patch_size, patch_size)\n",
    "    patches_im1 = np.array(points_im1)\n",
    "    patches_im2 = np.array(points_im2)\n",
    "    \n",
    "    return patches_im1, patches_im2\n",
    "    "
   ]
  },
  {
   "cell_type": "code",
   "execution_count": 37,
   "id": "18bd7a4f",
   "metadata": {},
   "outputs": [],
   "source": [
    "def show_patches(result_array1, result_array2):\n",
    "    # show patches \n",
    "\n",
    "    # Total number of subplots\n",
    "    num_subplots = result_array1.shape[0] + result_array2.shape[0]\n",
    "\n",
    "    # Create a figure with 2 rows and the required number of columns\n",
    "    fig, axs = plt.subplots(2, num_subplots // 2, figsize=(15, 6))\n",
    "\n",
    "    # Flatten the axs array for easier indexing\n",
    "    axs = axs.flatten()\n",
    "\n",
    "    # Display matrices from result_array1 in the first row\n",
    "    for i in range(result_array1.shape[0]):\n",
    "        axs[i].imshow(result_array1[i], cmap='gray')\n",
    "        axs[i].set_title(f'image1 patch {i + 1}')\n",
    "\n",
    "    # Display matrices from result_array2 in the second row\n",
    "    for j in range(result_array2.shape[0]):\n",
    "        axs[result_array1.shape[0] + j].imshow(result_array2[j], cmap='gray')  # Choose a different colormap if necessary\n",
    "        axs[result_array1.shape[0] + j].set_title(f'image2 patch {j + 1}')\n",
    "\n",
    "    # Adjust layout for better spacing\n",
    "    plt.tight_layout()\n",
    "\n",
    "    # Show the figure\n",
    "    plt.show()"
   ]
  },
  {
   "cell_type": "markdown",
   "id": "9376c471",
   "metadata": {},
   "source": [
    "## Compute Wasserstein distance"
   ]
  },
  {
   "cell_type": "code",
   "execution_count": 38,
   "id": "9db530fb",
   "metadata": {},
   "outputs": [],
   "source": [
    "\n",
    "# compute the wasserstein distance between two distributions of patches we us the library POT (Python Optimal Transport)\n",
    "def compute_wasserstein_distance(patches1, patches2, nb_patches, patch_size):\n",
    "\n",
    "    # reshapes the patches as vectors \n",
    "    if torch.is_tensor(patches1):\n",
    "        patches1=patches1.numpy()\n",
    "        patches2=patches2.numpy()\n",
    "\n",
    "    vectors1 = patches1.reshape(nb_patches, patch_size*patch_size)\n",
    "\n",
    "    vectors2 = patches2.reshape(nb_patches, patch_size*patch_size)\n",
    "\n",
    "    #   To avoid dividing by 0\n",
    "    epsilon = 1e-10\n",
    "\n",
    "    #   Normalization of the histograms \n",
    "    vectors1 /= (vectors1.sum(axis=0, keepdims=True)+epsilon)\n",
    "    vectors2 /= (vectors2.sum(axis=0, keepdims=True)+epsilon)\n",
    "    \n",
    "    #  Compute the distance matrix between the patches\n",
    "    Mdistances = ot.dist(vectors1, vectors2, metric='euclidean')\n",
    "\n",
    "    if torch.is_tensor(patches1):\n",
    "        Mdistances = torch.Tensor(Mdistances)\n",
    "\n",
    "    histo_a = [] # a and b are empty because we consider uniform weights\n",
    "    histo_b = [] \n",
    "\n",
    "    #  Compute the wasserstein distance between the two distributions of patches\n",
    "    wasserstein_distance = ot.emd2(histo_a, histo_b, Mdistances)\n",
    "    \n",
    "    return wasserstein_distance\n"
   ]
  },
  {
   "cell_type": "markdown",
   "id": "d0967395",
   "metadata": {},
   "source": [
    "## Compute euclidean distance"
   ]
  },
  {
   "cell_type": "code",
   "execution_count": 39,
   "id": "9c5ab82a",
   "metadata": {},
   "outputs": [],
   "source": [
    "def compute_euclidean_dist(vec1, vec2):\n",
    "\n",
    "    distance_vector= torch.norm(vec1 - vec2, dim=1, p=2)\n",
    "\n",
    "    return distance_vector\n",
    "\n",
    "\n"
   ]
  },
  {
   "cell_type": "markdown",
   "id": "30dfccc1",
   "metadata": {},
   "source": [
    "## Generate the dataset"
   ]
  },
  {
   "cell_type": "code",
   "execution_count": 40,
   "id": "ef5e04dc",
   "metadata": {},
   "outputs": [],
   "source": [
    "# Create the dataset \n",
    "\n",
    "\n",
    "def generate_batch(X, batch_size, nb_patches , patch_size):\n",
    "   \n",
    "   batch1 =(np.zeros((batch_size, nb_patches, patch_size, patch_size)))\n",
    "   batch2 = (np.zeros((batch_size, nb_patches, patch_size, patch_size)))\n",
    "\n",
    "   for i in range(batch_size):\n",
    "      #get two random indexes\n",
    "      index1 = np.random.randint(0, X.shape[0]-1, (1,))\n",
    "      index2 = np.random.randint(0, X.shape[0]-1, (1,))\n",
    "\n",
    "      #get the two images at random indexes\n",
    "      img1 = X.iloc[index1].values.reshape(28, 28)  # reshape as a 28x28 image\n",
    "      img2 = X.iloc[index2].values.reshape(28, 28)\n",
    "\n",
    "      # for each image, get the patches and store them in the batch\n",
    "      batch1[i], batch2[i]= get_patches(img1, img2, size_image, nb_patches, patch_size)\n",
    "\n",
    "\n",
    "   input1 = torch.Tensor(batch1)\n",
    "   input2 = torch.Tensor(batch2)\n",
    "\n",
    "\n",
    "   return input1, input2\n",
    "   \n",
    "\n",
    "\n"
   ]
  },
  {
   "cell_type": "code",
   "execution_count": 41,
   "id": "15e26737",
   "metadata": {},
   "outputs": [],
   "source": [
    "a, b = generate_batch(X, 2, 5, 12)"
   ]
  },
  {
   "cell_type": "markdown",
   "id": "dad40871",
   "metadata": {},
   "source": [
    "## Example of one element of the training set "
   ]
  },
  {
   "cell_type": "code",
   "execution_count": 42,
   "id": "1b929a85",
   "metadata": {},
   "outputs": [],
   "source": [
    "patches1, patches2 = get_patches(image1, image2, size_image, nb_patches, patch_size)"
   ]
  },
  {
   "cell_type": "code",
   "execution_count": 43,
   "id": "024edc55",
   "metadata": {},
   "outputs": [
    {
     "data": {
      "text/plain": [
       "<matplotlib.image.AxesImage at 0x26ede582b90>"
      ]
     },
     "execution_count": 43,
     "metadata": {},
     "output_type": "execute_result"
    },
    {
     "data": {
      "image/png": "[encoded data removed]",
      "text/plain": [
       "<Figure size 640x480 with 1 Axes>"
      ]
     },
     "metadata": {},
     "output_type": "display_data"
    }
   ],
   "source": [
    "plt.imshow(image1, cmap='gray')\n"
   ]
  },
  {
   "cell_type": "code",
   "execution_count": 44,
   "id": "6e2a4069",
   "metadata": {},
   "outputs": [
    {
     "data": {
      "text/plain": [
       "<matplotlib.image.AxesImage at 0x26f04216810>"
      ]
     },
     "execution_count": 44,
     "metadata": {},
     "output_type": "execute_result"
    },
    {
     "data": {
      "image/png": "[encoded data removed]",
      "text/plain": [
       "<Figure size 640x480 with 1 Axes>"
      ]
     },
     "metadata": {},
     "output_type": "display_data"
    }
   ],
   "source": [
    "plt.imshow(image2, cmap='gray')"
   ]
  },
  {
   "cell_type": "code",
   "execution_count": 45,
   "id": "16570674",
   "metadata": {},
   "outputs": [
    {
     "data": {
      "image/png": "[encoded data removed]",
      "text/plain": [
       "<Figure size 1500x600 with 10 Axes>"
      ]
     },
     "metadata": {},
     "output_type": "display_data"
    }
   ],
   "source": [
    "show_patches(patches1, patches2)"
   ]
  },
  {
   "cell_type": "code",
   "execution_count": 46,
   "id": "736f9cda",
   "metadata": {},
   "outputs": [
    {
     "name": "stdout",
     "output_type": "stream",
     "text": [
      "Wasserstein distance between the two ensembles of patches :  4.267930124284358\n"
     ]
    }
   ],
   "source": [
    "print(\"Wasserstein distance between the two ensembles of patches : \", compute_wasserstein_distance(patches1, patches2, nb_patches, patch_size))"
   ]
  },
  {
   "cell_type": "markdown",
   "id": "195fa79c",
   "metadata": {},
   "source": [
    " The two cells above are one element of our dataset, i.e two sets of patches taken in images of the dataset and the wassertein distance between these two patches distributions. \n",
    " "
   ]
  },
  {
   "cell_type": "markdown",
   "id": "8fced0c1",
   "metadata": {},
   "source": [
    "# Building the networks\n"
   ]
  },
  {
   "cell_type": "markdown",
   "id": "7854bbaf",
   "metadata": {},
   "source": [
    "## Basic network without reconstruction \n",
    "\n",
    "2 convolution layers, embedding size = 50"
   ]
  },
  {
   "cell_type": "code",
   "execution_count": 47,
   "id": "5118ba4f",
   "metadata": {},
   "outputs": [],
   "source": [
    "class Network(nn.Module): \n",
    "    def __init__(self, patch_size = patch_size, embedding_size=50): \n",
    "        super(Network, self).__init__()\n",
    "    \n",
    "        \n",
    "        self.conv1 = nn.Conv2d(in_channels=5, out_channels=20, kernel_size=3, padding=1)\n",
    "        self.conv2 = nn.Conv2d(in_channels=20, out_channels=30, kernel_size=5, padding=2)  # Conv2D with 5 filters, 5x5 kernel\n",
    "        self.flatten = nn.Flatten()\n",
    "        self.fc1 = nn.Linear(30*patch_size**2, 100)  # Flatten layer and Dense layer with 100 units\n",
    "        self.fc2 = nn.Linear(100, embedding_size)  # Dense layer with embedding_size units\n",
    "        \n",
    "    def forward_one(self, x): \n",
    "        x =F.relu(self.conv1(x))\n",
    "        x =F.relu(self.conv2(x))\n",
    "        x= self.flatten(x)\n",
    "        x = F.relu(self.fc1(x))\n",
    "        x = self.fc2(x)\n",
    "        return x\n",
    "    \n",
    "    \n",
    "    def forward(self, input1, input2):\n",
    "        # Forward pass pour les deux distributions, (embedding)\n",
    "        output1 = self.forward_one(input1)\n",
    "        output2 = self.forward_one(input2)\n",
    "\n",
    "        \n",
    "        return output1, output2\n",
    "    \n"
   ]
  },
  {
   "cell_type": "markdown",
   "id": "f71af605",
   "metadata": {},
   "source": [
    "## Biger network without reconstruction \n",
    "\n",
    "4 convolution layers, embedding size = 100"
   ]
  },
  {
   "cell_type": "code",
   "execution_count": 48,
   "id": "ae1535a7",
   "metadata": {},
   "outputs": [],
   "source": [
    "class Network2(nn.Module): \n",
    "    def __init__(self, patch_size = patch_size, embedding_size=100): \n",
    "        super(Network2, self).__init__()\n",
    "    \n",
    "        \n",
    "        self.conv1 = nn.Conv2d(in_channels=5, out_channels=10, kernel_size=3, padding=1)\n",
    "        self.conv2 = nn.Conv2d(in_channels=10, out_channels=20, kernel_size=5, padding=2)  # Conv2D with 5 filters, 5x5 kernel\n",
    "        self.conv3 = nn.Conv2d(in_channels=20, out_channels=30, kernel_size=5, padding=2)\n",
    "        self.conv4 = nn.Conv2d(in_channels=30, out_channels=40, kernel_size=5, padding=2)\n",
    "        \n",
    "\n",
    "        self.flatten = nn.Flatten()\n",
    "        self.fc1 = nn.Linear(40*patch_size**2, 200)  # Flatten layer and Dense layer with 100 units\n",
    "        self.fc2 = nn.Linear(200, embedding_size)  # Dense layer with embedding_size units\n",
    "        \n",
    "    def forward_one(self, x): \n",
    "        x =F.relu(self.conv1(x))\n",
    "        x =F.relu(self.conv2(x))\n",
    "        x =F.relu(self.conv3(x))\n",
    "        x= self.flatten(x)\n",
    "        x = F.relu(self.fc1(x))\n",
    "        x = self.fc2(x)\n",
    "        return x\n",
    "    \n",
    "    \n",
    "    def forward(self, input1, input2):\n",
    "        # Forward pass pour les deux distributions, (embedding)\n",
    "        output1 = self.forward_one(input1)\n",
    "        output2 = self.forward_one(input2)\n",
    "\n",
    "        \n",
    "        return output1, output2\n",
    "    \n"
   ]
  },
  {
   "cell_type": "markdown",
   "id": "f9b63911",
   "metadata": {},
   "source": [
    "## Network with reconstruction \n",
    "\n",
    "Same network as Courty et al, 2017 (https://arxiv.org/abs/1710.07457)"
   ]
  },
  {
   "cell_type": "code",
   "execution_count": 49,
   "id": "6e6b78d9",
   "metadata": {},
   "outputs": [],
   "source": [
    "class Autoencoder(nn.Module): \n",
    "    def __init__(self, patch_size = patch_size): \n",
    "        super(Autoencoder, self).__init__()\n",
    "    \n",
    "        self.embedding_size= 50\n",
    "\n",
    "        self.conv1 = nn.Conv2d(in_channels=5, out_channels=20, kernel_size=3, padding=1)\n",
    "        self.conv2 = nn.Conv2d(in_channels=20, out_channels=30, kernel_size=5, padding=2)  # Conv2D with 5 filters, 5x5 kernel\n",
    "        self.flatten = nn.Flatten()\n",
    "        self.fc1 = nn.Linear(30*patch_size**2, 100)  # Flatten layer and Dense layer with 100 units\n",
    "        self.fc2 = nn.Linear(100, self.embedding_size)  # Dense layer with embedding_size units\n",
    "\n",
    "\n",
    "        # Couches pour la reconstruction\n",
    "        self.fc3 = nn.Linear(self.embedding_size, 100)\n",
    "        self.fc4 = nn.Linear(100, 30 * patch_size**2)\n",
    "        self.unflatten = nn.Unflatten(1, (30, patch_size, patch_size))\n",
    "        self.deconv1 = nn.Conv2d(in_channels=30, out_channels=20, kernel_size=5, padding=2)\n",
    "        self.deconv2 = nn.Conv2d(in_channels=20, out_channels=5, kernel_size=3, padding=1)\n",
    "        \n",
    "\n",
    "        \n",
    "    def forward_one(self, x): \n",
    "        x =F.relu(self.conv1(x))\n",
    "        x =F.relu(self.conv2(x))\n",
    "        x= self.flatten(x)\n",
    "        x = F.relu(self.fc1(x))\n",
    "        x = self.fc2(x)\n",
    "        \n",
    "        return x\n",
    "    \n",
    "    def reconstruct(self, x):\n",
    "        x = F.relu(self.fc3(x))\n",
    "        x = F.relu(self.fc4(x))\n",
    "        x = self.unflatten(x)\n",
    "        x = F.relu(self.deconv1(x))\n",
    "        x = self.deconv2(x)\n",
    "        reconstructed = F.log_softmax(x, dim=1)  # Softmax activation function\n",
    "\n",
    "\n",
    "        return reconstructed\n",
    "    \n",
    "    def forward(self, input1, input2):\n",
    "        # Forward pass pour les deux distributions, (embedding)\n",
    "        output1 = self.forward_one(input1)\n",
    "        output2 = self.forward_one(input2)\n",
    "        reconstructed1 = self.reconstruct(output1)\n",
    "        reconstructed2 = self.reconstruct(output2)\n",
    "\n",
    "        return output1, output2, reconstructed1, reconstructed2\n",
    "    \n"
   ]
  },
  {
   "cell_type": "code",
   "execution_count": 50,
   "id": "2cad6372",
   "metadata": {},
   "outputs": [],
   "source": [
    "# Custom Loss for the autoencoder\n",
    "#It is a combination of the MSE loss and the kulback leibler divergence\n",
    "class CustomLoss(nn.Module):\n",
    "    def __init__(self, alpha=0.9):\n",
    "        super(CustomLoss, self).__init__()\n",
    "        self.alpha = alpha\n",
    "\n",
    "    def forward(self, batch1, batch2, output1, output2, reconstructed1, reconstructed2, batch_size, nb_patches, patch_size):\n",
    "        # Calculate the mean squared error betwen the euclidean distance (between the embeddings) and the wasserstein distance (between the patches)\n",
    "\n",
    "        wasserstein_dist= torch.zeros(batch_size)\n",
    "\n",
    "        for j in range(batch_size): \n",
    "            wasserstein_dist[j]= compute_wasserstein_distance(batch1[j], batch2[j],nb_patches, patch_size)\n",
    "\n",
    "        euclidean_dist = compute_euclidean_dist(output1, output2)\n",
    "\n",
    "        MSEloss = nn.MSELoss()(euclidean_dist, wasserstein_dist)\n",
    "\n",
    "        # Calculate the reconstruction loss, with the KL divergence\n",
    "        epsilon = 1e-10\n",
    "        kl_div1 = F.kl_div(reconstructed1+ epsilon, batch1+epsilon, reduction='batchmean')\n",
    "        kl_div2 = F.kl_div(reconstructed2 + epsilon, batch2 + epsilon, reduction='batchmean')\n",
    "\n",
    "        print(f'MSE loss : {self.alpha*MSEloss}')\n",
    "        print(f'KL divergence : {(1 - self.alpha)*(kl_div1+kl_div2)}')\n",
    "\n",
    "\n",
    "        # Combine the two losses\n",
    "        loss = self.alpha * MSEloss + (1 - self.alpha) * (kl_div1+kl_div2)\n",
    "        \n",
    "        return loss\n"
   ]
  },
  {
   "cell_type": "code",
   "execution_count": 57,
   "id": "3aa19e88",
   "metadata": {},
   "outputs": [
    {
     "name": "stdout",
     "output_type": "stream",
     "text": [
      "Network(\n",
      "  (conv1): Conv2d(5, 20, kernel_size=(3, 3), stride=(1, 1), padding=(1, 1))\n",
      "  (conv2): Conv2d(20, 30, kernel_size=(5, 5), stride=(1, 1), padding=(2, 2))\n",
      "  (flatten): Flatten(start_dim=1, end_dim=-1)\n",
      "  (fc1): Linear(in_features=4320, out_features=100, bias=True)\n",
      "  (fc2): Linear(in_features=100, out_features=50, bias=True)\n",
      ")\n"
     ]
    }
   ],
   "source": [
    "siamese_net = Network()\n",
    "\n",
    "print(siamese_net)"
   ]
  },
  {
   "cell_type": "code",
   "execution_count": 52,
   "id": "ff477e25",
   "metadata": {},
   "outputs": [
    {
     "name": "stdout",
     "output_type": "stream",
     "text": [
      "Network(\n",
      "  (conv1): Conv2d(5, 20, kernel_size=(3, 3), stride=(1, 1), padding=(1, 1))\n",
      "  (conv2): Conv2d(20, 30, kernel_size=(5, 5), stride=(1, 1), padding=(2, 2))\n",
      "  (flatten): Flatten(start_dim=1, end_dim=-1)\n",
      "  (fc1): Linear(in_features=4320, out_features=100, bias=True)\n",
      "  (fc2): Linear(in_features=100, out_features=50, bias=True)\n",
      ")\n"
     ]
    }
   ],
   "source": [
    "siamese_net2 = Network2()\n",
    "\n",
    "print(siamese_net)"
   ]
  },
  {
   "cell_type": "markdown",
   "id": "ea51473e",
   "metadata": {},
   "source": [
    "# Training of the networks"
   ]
  },
  {
   "cell_type": "markdown",
   "id": "d1320f51",
   "metadata": {},
   "source": [
    "## Train of the simple network"
   ]
  },
  {
   "cell_type": "code",
   "execution_count": 58,
   "id": "648ef854",
   "metadata": {},
   "outputs": [
    {
     "name": "stdout",
     "output_type": "stream",
     "text": [
      "Epoch [10/300], Loss: 14.9817\n",
      "Epoch [20/300], Loss: 8.9558\n",
      "Epoch [30/300], Loss: 1.4475\n",
      "Epoch [40/300], Loss: 2.7416\n",
      "Epoch [50/300], Loss: 1.4220\n",
      "Epoch [60/300], Loss: 1.6396\n",
      "Epoch [70/300], Loss: 1.6370\n",
      "Epoch [80/300], Loss: 1.3366\n",
      "Epoch [90/300], Loss: 1.3685\n",
      "Epoch [100/300], Loss: 1.5386\n",
      "Epoch [110/300], Loss: 0.9829\n",
      "Epoch [120/300], Loss: 1.0549\n",
      "Epoch [130/300], Loss: 0.9982\n",
      "Epoch [140/300], Loss: 0.9220\n",
      "Epoch [150/300], Loss: 0.9533\n",
      "Epoch [160/300], Loss: 0.8592\n",
      "Epoch [170/300], Loss: 1.2930\n",
      "Epoch [180/300], Loss: 1.1777\n",
      "Epoch [190/300], Loss: 0.7026\n",
      "Epoch [200/300], Loss: 0.8601\n",
      "Epoch [210/300], Loss: 0.9333\n",
      "Epoch [220/300], Loss: 0.6229\n",
      "Epoch [230/300], Loss: 0.6614\n",
      "Epoch [240/300], Loss: 0.7158\n",
      "Epoch [250/300], Loss: 0.8485\n",
      "Epoch [260/300], Loss: 0.5989\n",
      "Epoch [270/300], Loss: 0.7146\n",
      "Epoch [280/300], Loss: 0.8969\n",
      "Epoch [290/300], Loss: 0.6779\n",
      "Epoch [300/300], Loss: 0.9653\n"
     ]
    }
   ],
   "source": [
    "epochs = 300\n",
    "batch_size= 64\n",
    "\n",
    "criterion = nn.MSELoss()\n",
    "optimizer = optim.SGD(siamese_net.parameters(), lr=0.001)\n",
    "\n",
    "wasserstein_dist= torch.Tensor((batch_size))\n",
    "\n",
    "for epoch in range(epochs): \n",
    "    batch1, batch2 = generate_batch(X, batch_size, nb_patches , patch_size)\n",
    "\n",
    "    for j in range(batch_size): \n",
    "        wasserstein_dist[j]= compute_wasserstein_distance(batch1[j], batch2[j],nb_patches, patch_size)\n",
    " \n",
    "    \n",
    "    output1 , ouput2 = siamese_net(batch1, batch2)\n",
    "\n",
    "    euclidean_dist = compute_euclidean_dist(output1, ouput2)\n",
    "    #print(\"euc dist\", euclidean_dist.shape)\n",
    "\n",
    "    loss = criterion(euclidean_dist, wasserstein_dist)\n",
    "    #print(\"loss\", loss.shape)\n",
    "\n",
    "    loss.backward()\n",
    "\n",
    "    optimizer.step()\n",
    "\n",
    "    if (epoch + 1) % 10== 0:\n",
    "        print(f'Epoch [{epoch+1}/{epochs}], Loss: {loss.item():.4f}')\n",
    "    if epoch > 150: \n",
    "        optimizer = optim.SGD(siamese_net.parameters(), lr=0.0001)\n",
    "    if epoch > 250: \n",
    "        optimizer = optim.SGD(siamese_net.parameters(), lr=0.00001)\n"
   ]
  },
  {
   "cell_type": "code",
   "execution_count": 20,
   "id": "e0730a57",
   "metadata": {},
   "outputs": [
    {
     "name": "stdout",
     "output_type": "stream",
     "text": [
      "Epoch [10/300], Loss: 14.9964\n",
      "Learning rate: 0.0010\n",
      "Epoch [20/300], Loss: 11.4082\n",
      "Learning rate: 0.0010\n",
      "Epoch [30/300], Loss: 6.3266\n",
      "Learning rate: 0.0010\n",
      "Epoch [40/300], Loss: 1.5964\n",
      "Learning rate: 0.0010\n",
      "Epoch [50/300], Loss: 1.7290\n",
      "Learning rate: 0.0010\n",
      "Epoch [60/300], Loss: 2.1068\n",
      "Learning rate: 0.0010\n",
      "Epoch [70/300], Loss: 1.7322\n",
      "Learning rate: 0.0010\n",
      "Epoch [80/300], Loss: 1.2752\n",
      "Learning rate: 0.0010\n",
      "Epoch [90/300], Loss: 1.1747\n",
      "Learning rate: 0.0010\n",
      "Epoch [100/300], Loss: 1.4137\n",
      "Learning rate: 0.0001\n",
      "Epoch [110/300], Loss: 1.3733\n",
      "Learning rate: 0.0001\n",
      "Epoch [120/300], Loss: 1.6205\n",
      "Learning rate: 0.0001\n",
      "Epoch [130/300], Loss: 1.1720\n",
      "Learning rate: 0.0001\n",
      "Epoch [140/300], Loss: 1.3034\n",
      "Learning rate: 0.0001\n",
      "Epoch [150/300], Loss: 1.0563\n",
      "Learning rate: 0.0000\n",
      "Epoch [160/300], Loss: 1.1865\n",
      "Learning rate: 0.0000\n",
      "Epoch [170/300], Loss: 0.9242\n",
      "Learning rate: 0.0000\n",
      "Epoch [180/300], Loss: 1.5093\n",
      "Learning rate: 0.0000\n",
      "Epoch [190/300], Loss: 0.9733\n",
      "Learning rate: 0.0000\n",
      "Epoch [200/300], Loss: 1.0758\n",
      "Learning rate: 0.0000\n",
      "Epoch [210/300], Loss: 1.1861\n",
      "Learning rate: 0.0000\n",
      "Epoch [220/300], Loss: 0.8845\n",
      "Learning rate: 0.0000\n",
      "Epoch [230/300], Loss: 0.6933\n",
      "Learning rate: 0.0000\n",
      "Epoch [240/300], Loss: 0.8944\n",
      "Learning rate: 0.0000\n",
      "Epoch [250/300], Loss: 0.7225\n",
      "Learning rate: 0.0000\n",
      "Epoch [260/300], Loss: 1.0991\n",
      "Learning rate: 0.0000\n",
      "Epoch [270/300], Loss: 0.8911\n",
      "Learning rate: 0.0000\n",
      "Epoch [280/300], Loss: 1.2641\n",
      "Learning rate: 0.0000\n",
      "Epoch [290/300], Loss: 0.9428\n",
      "Learning rate: 0.0000\n",
      "Epoch [300/300], Loss: 1.0227\n",
      "Learning rate: 0.0000\n"
     ]
    }
   ],
   "source": [
    "epochs = 300\n",
    "batch_size= 64\n",
    "\n",
    "criterion = nn.MSELoss()\n",
    "optimizer = optim.SGD(siamese_net.parameters(), lr=0.001)\n",
    "\n",
    "# Define the learning rate scheduler\n",
    "milestones = [100, 150, 200, 250]  # Epochs at which to reduce the learning rate\n",
    "scheduler = optim.lr_scheduler.MultiStepLR(optimizer, milestones=milestones, gamma=0.1)\n",
    "\n",
    "\n",
    "wasserstein_dist= torch.Tensor((batch_size))\n",
    "\n",
    "for epoch in range(epochs): \n",
    "    batch1, batch2 = generate_batch(X, batch_size, nb_patches , patch_size)\n",
    "\n",
    "    for j in range(batch_size): \n",
    "        wasserstein_dist[j]= compute_wasserstein_distance(batch1[j], batch2[j],nb_patches, patch_size)\n",
    " \n",
    "    \n",
    "    output1 , ouput2 = siamese_net2(batch1, batch2)\n",
    "\n",
    "    euclidean_dist = compute_euclidean_dist(output1, ouput2)\n",
    " \n",
    "\n",
    "    loss = criterion(euclidean_dist, wasserstein_dist)\n",
    "\n",
    "    loss.backward()\n",
    "\n",
    "    optimizer.step()\n",
    "\n",
    "    scheduler.step()\n",
    "\n",
    "\n",
    "    if (epoch + 1) % 10== 0:\n",
    "        print(f'Epoch [{epoch+1}/{epochs}], Loss: {loss.item():.4f}')\n",
    "        print(f'Learning rate: {optimizer.param_groups[0][\"lr\"]}')\n",
    "   "
   ]
  },
  {
   "cell_type": "markdown",
   "id": "d9f12aa5",
   "metadata": {},
   "source": [
    "## Training of the network with reconstruction loss"
   ]
  },
  {
   "cell_type": "code",
   "execution_count": 85,
   "id": "18c9f07f",
   "metadata": {},
   "outputs": [
    {
     "name": "stdout",
     "output_type": "stream",
     "text": [
      "Autoencoder(\n",
      "  (conv1): Conv2d(5, 20, kernel_size=(3, 3), stride=(1, 1), padding=(1, 1))\n",
      "  (conv2): Conv2d(20, 30, kernel_size=(5, 5), stride=(1, 1), padding=(2, 2))\n",
      "  (flatten): Flatten(start_dim=1, end_dim=-1)\n",
      "  (fc1): Linear(in_features=4320, out_features=100, bias=True)\n",
      "  (fc2): Linear(in_features=100, out_features=50, bias=True)\n",
      "  (fc3): Linear(in_features=50, out_features=100, bias=True)\n",
      "  (fc4): Linear(in_features=100, out_features=4320, bias=True)\n",
      "  (unflatten): Unflatten(dim=1, unflattened_size=(30, 12, 12))\n",
      "  (deconv1): Conv2d(30, 20, kernel_size=(5, 5), stride=(1, 1), padding=(2, 2))\n",
      "  (deconv2): Conv2d(20, 5, kernel_size=(3, 3), stride=(1, 1), padding=(1, 1))\n",
      ")\n"
     ]
    }
   ],
   "source": [
    "network_reconstruction = Autoencoder()\n",
    "\n",
    "print(network_reconstruction)"
   ]
  },
  {
   "cell_type": "code",
   "execution_count": 50,
   "id": "a5d2bce7",
   "metadata": {},
   "outputs": [
    {
     "name": "stdout",
     "output_type": "stream",
     "text": [
      "shape input 1 : torch.Size([8, 5, 12, 12]), shape input 2 :  torch.Size([8, 5, 12, 12])\n"
     ]
    },
    {
     "ename": "NameError",
     "evalue": "name 'network_reconstruction' is not defined",
     "output_type": "error",
     "traceback": [
      "\u001b[1;31m---------------------------------------------------------------------------\u001b[0m",
      "\u001b[1;31mNameError\u001b[0m                                 Traceback (most recent call last)",
      "Cell \u001b[1;32mIn[50], line 10\u001b[0m\n\u001b[0;32m      7\u001b[0m \u001b[38;5;28mprint\u001b[39m(\u001b[38;5;124mf\u001b[39m\u001b[38;5;124m'\u001b[39m\u001b[38;5;124mshape input 1 : \u001b[39m\u001b[38;5;132;01m{\u001b[39;00mx1\u001b[38;5;241m.\u001b[39mshape\u001b[38;5;132;01m}\u001b[39;00m\u001b[38;5;124m, shape input 2 :  \u001b[39m\u001b[38;5;132;01m{\u001b[39;00mx1\u001b[38;5;241m.\u001b[39mshape\u001b[38;5;132;01m}\u001b[39;00m\u001b[38;5;124m'\u001b[39m)\n\u001b[0;32m      9\u001b[0m \u001b[38;5;66;03m#feed these two test batches into the model\u001b[39;00m\n\u001b[1;32m---> 10\u001b[0m o1, o2, r1, r2  \u001b[38;5;241m=\u001b[39m \u001b[43mnetwork_reconstruction\u001b[49m(x1, x1)\n\u001b[0;32m     12\u001b[0m \u001b[38;5;28mprint\u001b[39m(\u001b[38;5;124mf\u001b[39m\u001b[38;5;124m'\u001b[39m\u001b[38;5;124moutput1 shape: \u001b[39m\u001b[38;5;132;01m{\u001b[39;00mo1\u001b[38;5;241m.\u001b[39mshape\u001b[38;5;132;01m}\u001b[39;00m\u001b[38;5;124m, output2 shape :\u001b[39m\u001b[38;5;132;01m{\u001b[39;00mo2\u001b[38;5;241m.\u001b[39mshape\u001b[38;5;132;01m}\u001b[39;00m\u001b[38;5;124m'\u001b[39m)\n\u001b[0;32m     15\u001b[0m \u001b[38;5;28mprint\u001b[39m(\u001b[38;5;124mf\u001b[39m\u001b[38;5;124m'\u001b[39m\u001b[38;5;124mreconstruted 1 shape: \u001b[39m\u001b[38;5;132;01m{\u001b[39;00mr1\u001b[38;5;241m.\u001b[39mshape\u001b[38;5;132;01m}\u001b[39;00m\u001b[38;5;124m, reconstructed 2 shape :\u001b[39m\u001b[38;5;132;01m{\u001b[39;00mr2\u001b[38;5;241m.\u001b[39mshape\u001b[38;5;132;01m}\u001b[39;00m\u001b[38;5;124m'\u001b[39m)\n",
      "\u001b[1;31mNameError\u001b[0m: name 'network_reconstruction' is not defined"
     ]
    }
   ],
   "source": [
    "# test forward pass\n",
    "\n",
    "batch_size= 8\n",
    "\n",
    "x1, x2 = generate_batch(X, batch_size, nb_patches, patch_size)\n",
    "\n",
    "print(f'shape input 1 : {x1.shape}, shape input 2 :  {x1.shape}')\n",
    "\n",
    "#feed these two test batches into the model\n",
    "o1, o2, r1, r2  = network_reconstruction(x1, x1)\n",
    "\n",
    "print(f'output1 shape: {o1.shape}, output2 shape :{o2.shape}')\n",
    "\n",
    "\n",
    "print(f'reconstruted 1 shape: {r1.shape}, reconstructed 2 shape :{r2.shape}')\n",
    "\n",
    "#show_patches(r1[0].detach().numpy(), r2[0].detach().numpy())"
   ]
  },
  {
   "cell_type": "code",
   "execution_count": 86,
   "id": "87928f27",
   "metadata": {},
   "outputs": [
    {
     "name": "stdout",
     "output_type": "stream",
     "text": [
      "MSE loss : 322.22662353515625\n",
      "KL divergence : 275.525634765625\n",
      "MSE loss : 256.5093688964844\n",
      "KL divergence : 276.8621826171875\n",
      "MSE loss : 221.4722442626953\n",
      "KL divergence : 266.0223388671875\n",
      "MSE loss : 168.5369110107422\n",
      "KL divergence : 271.33734130859375\n",
      "MSE loss : 163.17344665527344\n",
      "KL divergence : 256.0872802734375\n",
      "MSE loss : 102.16358947753906\n",
      "KL divergence : 260.266357421875\n",
      "MSE loss : 128.0011749267578\n",
      "KL divergence : 256.13262939453125\n",
      "MSE loss : 82.10877227783203\n",
      "KL divergence : 266.8487548828125\n",
      "MSE loss : 71.9703140258789\n",
      "KL divergence : 261.2278137207031\n",
      "MSE loss : 86.3739013671875\n",
      "KL divergence : 254.36541748046875\n",
      "Epoch [10/200], Loss: 254.1974\n",
      "MSE loss : 58.94737243652344\n",
      "KL divergence : 274.7969970703125\n"
     ]
    },
    {
     "ename": "KeyboardInterrupt",
     "evalue": "",
     "output_type": "error",
     "traceback": [
      "\u001b[1;31m---------------------------------------------------------------------------\u001b[0m",
      "\u001b[1;31mKeyboardInterrupt\u001b[0m                         Traceback (most recent call last)",
      "Cell \u001b[1;32mIn[86], line 10\u001b[0m\n\u001b[0;32m      7\u001b[0m wasserstein_dist\u001b[38;5;241m=\u001b[39m torch\u001b[38;5;241m.\u001b[39mTensor((batch_size))\n\u001b[0;32m      9\u001b[0m \u001b[38;5;28;01mfor\u001b[39;00m epoch \u001b[38;5;129;01min\u001b[39;00m \u001b[38;5;28mrange\u001b[39m(epochs): \n\u001b[1;32m---> 10\u001b[0m     batch1, batch2 \u001b[38;5;241m=\u001b[39m \u001b[43mgenerate_batch\u001b[49m\u001b[43m(\u001b[49m\u001b[43mX\u001b[49m\u001b[43m,\u001b[49m\u001b[43m \u001b[49m\u001b[43mbatch_size\u001b[49m\u001b[43m,\u001b[49m\u001b[43m \u001b[49m\u001b[43mnb_patches\u001b[49m\u001b[43m \u001b[49m\u001b[43m,\u001b[49m\u001b[43m \u001b[49m\u001b[43mpatch_size\u001b[49m\u001b[43m)\u001b[49m\n\u001b[0;32m     12\u001b[0m     output1 , ouput2, reconstructed1, reconstructed2 \u001b[38;5;241m=\u001b[39m network_reconstruction(batch1, batch2)\n\u001b[0;32m     14\u001b[0m     loss \u001b[38;5;241m=\u001b[39m criterion(batch1, batch2, output1, ouput2, reconstructed1, reconstructed2, batch_size, nb_patches, patch_size)\n",
      "Cell \u001b[1;32mIn[12], line 17\u001b[0m, in \u001b[0;36mgenerate_batch\u001b[1;34m(X, batch_size, nb_patches, patch_size)\u001b[0m\n\u001b[0;32m     14\u001b[0m    \u001b[38;5;66;03m#print(index1, index2)\u001b[39;00m\n\u001b[0;32m     16\u001b[0m    img1 \u001b[38;5;241m=\u001b[39m X\u001b[38;5;241m.\u001b[39miloc[index1]\u001b[38;5;241m.\u001b[39mvalues\u001b[38;5;241m.\u001b[39mreshape(\u001b[38;5;241m28\u001b[39m, \u001b[38;5;241m28\u001b[39m)  \u001b[38;5;66;03m# Remodeler l'image en une matrice 28x28\u001b[39;00m\n\u001b[1;32m---> 17\u001b[0m    img2 \u001b[38;5;241m=\u001b[39m \u001b[43mX\u001b[49m\u001b[38;5;241;43m.\u001b[39;49m\u001b[43miloc\u001b[49m\u001b[43m[\u001b[49m\u001b[43mindex2\u001b[49m\u001b[43m]\u001b[49m\u001b[38;5;241m.\u001b[39mvalues\u001b[38;5;241m.\u001b[39mreshape(\u001b[38;5;241m28\u001b[39m, \u001b[38;5;241m28\u001b[39m)\n\u001b[0;32m     19\u001b[0m    batch1[i], batch2[i]\u001b[38;5;241m=\u001b[39m get_patches(img1, img2, size_image, nb_patches, patch_size)\n\u001b[0;32m     22\u001b[0m input1 \u001b[38;5;241m=\u001b[39m torch\u001b[38;5;241m.\u001b[39mTensor(batch1)\n",
      "File \u001b[1;32mc:\\Users\\debar\\Anaconda3\\envs\\insa\\Lib\\site-packages\\pandas\\core\\indexing.py:1103\u001b[0m, in \u001b[0;36m_LocationIndexer.__getitem__\u001b[1;34m(self, key)\u001b[0m\n\u001b[0;32m   1100\u001b[0m axis \u001b[38;5;241m=\u001b[39m \u001b[38;5;28mself\u001b[39m\u001b[38;5;241m.\u001b[39maxis \u001b[38;5;129;01mor\u001b[39;00m \u001b[38;5;241m0\u001b[39m\n\u001b[0;32m   1102\u001b[0m maybe_callable \u001b[38;5;241m=\u001b[39m com\u001b[38;5;241m.\u001b[39mapply_if_callable(key, \u001b[38;5;28mself\u001b[39m\u001b[38;5;241m.\u001b[39mobj)\n\u001b[1;32m-> 1103\u001b[0m \u001b[38;5;28;01mreturn\u001b[39;00m \u001b[38;5;28;43mself\u001b[39;49m\u001b[38;5;241;43m.\u001b[39;49m\u001b[43m_getitem_axis\u001b[49m\u001b[43m(\u001b[49m\u001b[43mmaybe_callable\u001b[49m\u001b[43m,\u001b[49m\u001b[43m \u001b[49m\u001b[43maxis\u001b[49m\u001b[38;5;241;43m=\u001b[39;49m\u001b[43maxis\u001b[49m\u001b[43m)\u001b[49m\n",
      "File \u001b[1;32mc:\\Users\\debar\\Anaconda3\\envs\\insa\\Lib\\site-packages\\pandas\\core\\indexing.py:1647\u001b[0m, in \u001b[0;36m_iLocIndexer._getitem_axis\u001b[1;34m(self, key, axis)\u001b[0m\n\u001b[0;32m   1645\u001b[0m \u001b[38;5;66;03m# a list of integers\u001b[39;00m\n\u001b[0;32m   1646\u001b[0m \u001b[38;5;28;01melif\u001b[39;00m is_list_like_indexer(key):\n\u001b[1;32m-> 1647\u001b[0m     \u001b[38;5;28;01mreturn\u001b[39;00m \u001b[38;5;28;43mself\u001b[39;49m\u001b[38;5;241;43m.\u001b[39;49m\u001b[43m_get_list_axis\u001b[49m\u001b[43m(\u001b[49m\u001b[43mkey\u001b[49m\u001b[43m,\u001b[49m\u001b[43m \u001b[49m\u001b[43maxis\u001b[49m\u001b[38;5;241;43m=\u001b[39;49m\u001b[43maxis\u001b[49m\u001b[43m)\u001b[49m\n\u001b[0;32m   1649\u001b[0m \u001b[38;5;66;03m# a single integer\u001b[39;00m\n\u001b[0;32m   1650\u001b[0m \u001b[38;5;28;01melse\u001b[39;00m:\n\u001b[0;32m   1651\u001b[0m     key \u001b[38;5;241m=\u001b[39m item_from_zerodim(key)\n",
      "File \u001b[1;32mc:\\Users\\debar\\Anaconda3\\envs\\insa\\Lib\\site-packages\\pandas\\core\\indexing.py:1618\u001b[0m, in \u001b[0;36m_iLocIndexer._get_list_axis\u001b[1;34m(self, key, axis)\u001b[0m\n\u001b[0;32m   1601\u001b[0m \u001b[38;5;250m\u001b[39m\u001b[38;5;124;03m\"\"\"\u001b[39;00m\n\u001b[0;32m   1602\u001b[0m \u001b[38;5;124;03mReturn Series values by list or array of integers.\u001b[39;00m\n\u001b[0;32m   1603\u001b[0m \n\u001b[1;32m   (...)\u001b[0m\n\u001b[0;32m   1615\u001b[0m \u001b[38;5;124;03m`axis` can only be zero.\u001b[39;00m\n\u001b[0;32m   1616\u001b[0m \u001b[38;5;124;03m\"\"\"\u001b[39;00m\n\u001b[0;32m   1617\u001b[0m \u001b[38;5;28;01mtry\u001b[39;00m:\n\u001b[1;32m-> 1618\u001b[0m     \u001b[38;5;28;01mreturn\u001b[39;00m \u001b[38;5;28;43mself\u001b[39;49m\u001b[38;5;241;43m.\u001b[39;49m\u001b[43mobj\u001b[49m\u001b[38;5;241;43m.\u001b[39;49m\u001b[43m_take_with_is_copy\u001b[49m\u001b[43m(\u001b[49m\u001b[43mkey\u001b[49m\u001b[43m,\u001b[49m\u001b[43m \u001b[49m\u001b[43maxis\u001b[49m\u001b[38;5;241;43m=\u001b[39;49m\u001b[43maxis\u001b[49m\u001b[43m)\u001b[49m\n\u001b[0;32m   1619\u001b[0m \u001b[38;5;28;01mexcept\u001b[39;00m \u001b[38;5;167;01mIndexError\u001b[39;00m \u001b[38;5;28;01mas\u001b[39;00m err:\n\u001b[0;32m   1620\u001b[0m     \u001b[38;5;66;03m# re-raise with different error message\u001b[39;00m\n\u001b[0;32m   1621\u001b[0m     \u001b[38;5;28;01mraise\u001b[39;00m \u001b[38;5;167;01mIndexError\u001b[39;00m(\u001b[38;5;124m\"\u001b[39m\u001b[38;5;124mpositional indexers are out-of-bounds\u001b[39m\u001b[38;5;124m\"\u001b[39m) \u001b[38;5;28;01mfrom\u001b[39;00m \u001b[38;5;21;01merr\u001b[39;00m\n",
      "File \u001b[1;32mc:\\Users\\debar\\Anaconda3\\envs\\insa\\Lib\\site-packages\\pandas\\core\\generic.py:3948\u001b[0m, in \u001b[0;36mNDFrame._take_with_is_copy\u001b[1;34m(self, indices, axis)\u001b[0m\n\u001b[0;32m   3940\u001b[0m \u001b[38;5;28;01mdef\u001b[39;00m \u001b[38;5;21m_take_with_is_copy\u001b[39m(\u001b[38;5;28mself\u001b[39m: NDFrameT, indices, axis: Axis \u001b[38;5;241m=\u001b[39m \u001b[38;5;241m0\u001b[39m) \u001b[38;5;241m-\u001b[39m\u001b[38;5;241m>\u001b[39m NDFrameT:\n\u001b[0;32m   3941\u001b[0m \u001b[38;5;250m    \u001b[39m\u001b[38;5;124;03m\"\"\"\u001b[39;00m\n\u001b[0;32m   3942\u001b[0m \u001b[38;5;124;03m    Internal version of the `take` method that sets the `_is_copy`\u001b[39;00m\n\u001b[0;32m   3943\u001b[0m \u001b[38;5;124;03m    attribute to keep track of the parent dataframe (using in indexing\u001b[39;00m\n\u001b[1;32m   (...)\u001b[0m\n\u001b[0;32m   3946\u001b[0m \u001b[38;5;124;03m    See the docstring of `take` for full explanation of the parameters.\u001b[39;00m\n\u001b[0;32m   3947\u001b[0m \u001b[38;5;124;03m    \"\"\"\u001b[39;00m\n\u001b[1;32m-> 3948\u001b[0m     result \u001b[38;5;241m=\u001b[39m \u001b[38;5;28;43mself\u001b[39;49m\u001b[38;5;241;43m.\u001b[39;49m\u001b[43m_take\u001b[49m\u001b[43m(\u001b[49m\u001b[43mindices\u001b[49m\u001b[38;5;241;43m=\u001b[39;49m\u001b[43mindices\u001b[49m\u001b[43m,\u001b[49m\u001b[43m \u001b[49m\u001b[43maxis\u001b[49m\u001b[38;5;241;43m=\u001b[39;49m\u001b[43maxis\u001b[49m\u001b[43m)\u001b[49m\n\u001b[0;32m   3949\u001b[0m     \u001b[38;5;66;03m# Maybe set copy if we didn't actually change the index.\u001b[39;00m\n\u001b[0;32m   3950\u001b[0m     \u001b[38;5;28;01mif\u001b[39;00m \u001b[38;5;129;01mnot\u001b[39;00m result\u001b[38;5;241m.\u001b[39m_get_axis(axis)\u001b[38;5;241m.\u001b[39mequals(\u001b[38;5;28mself\u001b[39m\u001b[38;5;241m.\u001b[39m_get_axis(axis)):\n",
      "File \u001b[1;32mc:\\Users\\debar\\Anaconda3\\envs\\insa\\Lib\\site-packages\\pandas\\core\\generic.py:3932\u001b[0m, in \u001b[0;36mNDFrame._take\u001b[1;34m(self, indices, axis, convert_indices)\u001b[0m\n\u001b[0;32m   3924\u001b[0m     \u001b[38;5;28;01mif\u001b[39;00m (\n\u001b[0;32m   3925\u001b[0m         axis \u001b[38;5;241m==\u001b[39m \u001b[38;5;241m0\u001b[39m\n\u001b[0;32m   3926\u001b[0m         \u001b[38;5;129;01mand\u001b[39;00m indices\u001b[38;5;241m.\u001b[39mndim \u001b[38;5;241m==\u001b[39m \u001b[38;5;241m1\u001b[39m\n\u001b[0;32m   3927\u001b[0m         \u001b[38;5;129;01mand\u001b[39;00m using_copy_on_write()\n\u001b[0;32m   3928\u001b[0m         \u001b[38;5;129;01mand\u001b[39;00m is_range_indexer(indices, \u001b[38;5;28mlen\u001b[39m(\u001b[38;5;28mself\u001b[39m))\n\u001b[0;32m   3929\u001b[0m     ):\n\u001b[0;32m   3930\u001b[0m         \u001b[38;5;28;01mreturn\u001b[39;00m \u001b[38;5;28mself\u001b[39m\u001b[38;5;241m.\u001b[39mcopy(deep\u001b[38;5;241m=\u001b[39m\u001b[38;5;28;01mNone\u001b[39;00m)\n\u001b[1;32m-> 3932\u001b[0m new_data \u001b[38;5;241m=\u001b[39m \u001b[38;5;28;43mself\u001b[39;49m\u001b[38;5;241;43m.\u001b[39;49m\u001b[43m_mgr\u001b[49m\u001b[38;5;241;43m.\u001b[39;49m\u001b[43mtake\u001b[49m\u001b[43m(\u001b[49m\n\u001b[0;32m   3933\u001b[0m \u001b[43m    \u001b[49m\u001b[43mindices\u001b[49m\u001b[43m,\u001b[49m\n\u001b[0;32m   3934\u001b[0m \u001b[43m    \u001b[49m\u001b[43maxis\u001b[49m\u001b[38;5;241;43m=\u001b[39;49m\u001b[38;5;28;43mself\u001b[39;49m\u001b[38;5;241;43m.\u001b[39;49m\u001b[43m_get_block_manager_axis\u001b[49m\u001b[43m(\u001b[49m\u001b[43maxis\u001b[49m\u001b[43m)\u001b[49m\u001b[43m,\u001b[49m\n\u001b[0;32m   3935\u001b[0m \u001b[43m    \u001b[49m\u001b[43mverify\u001b[49m\u001b[38;5;241;43m=\u001b[39;49m\u001b[38;5;28;43;01mTrue\u001b[39;49;00m\u001b[43m,\u001b[49m\n\u001b[0;32m   3936\u001b[0m \u001b[43m    \u001b[49m\u001b[43mconvert_indices\u001b[49m\u001b[38;5;241;43m=\u001b[39;49m\u001b[43mconvert_indices\u001b[49m\u001b[43m,\u001b[49m\n\u001b[0;32m   3937\u001b[0m \u001b[43m\u001b[49m\u001b[43m)\u001b[49m\n\u001b[0;32m   3938\u001b[0m \u001b[38;5;28;01mreturn\u001b[39;00m \u001b[38;5;28mself\u001b[39m\u001b[38;5;241m.\u001b[39m_constructor(new_data)\u001b[38;5;241m.\u001b[39m__finalize__(\u001b[38;5;28mself\u001b[39m, method\u001b[38;5;241m=\u001b[39m\u001b[38;5;124m\"\u001b[39m\u001b[38;5;124mtake\u001b[39m\u001b[38;5;124m\"\u001b[39m)\n",
      "File \u001b[1;32mc:\\Users\\debar\\Anaconda3\\envs\\insa\\Lib\\site-packages\\pandas\\core\\internals\\managers.py:963\u001b[0m, in \u001b[0;36mBaseBlockManager.take\u001b[1;34m(self, indexer, axis, verify, convert_indices)\u001b[0m\n\u001b[0;32m    960\u001b[0m     indexer \u001b[38;5;241m=\u001b[39m maybe_convert_indices(indexer, n, verify\u001b[38;5;241m=\u001b[39mverify)\n\u001b[0;32m    962\u001b[0m new_labels \u001b[38;5;241m=\u001b[39m \u001b[38;5;28mself\u001b[39m\u001b[38;5;241m.\u001b[39maxes[axis]\u001b[38;5;241m.\u001b[39mtake(indexer)\n\u001b[1;32m--> 963\u001b[0m \u001b[38;5;28;01mreturn\u001b[39;00m \u001b[38;5;28;43mself\u001b[39;49m\u001b[38;5;241;43m.\u001b[39;49m\u001b[43mreindex_indexer\u001b[49m\u001b[43m(\u001b[49m\n\u001b[0;32m    964\u001b[0m \u001b[43m    \u001b[49m\u001b[43mnew_axis\u001b[49m\u001b[38;5;241;43m=\u001b[39;49m\u001b[43mnew_labels\u001b[49m\u001b[43m,\u001b[49m\n\u001b[0;32m    965\u001b[0m \u001b[43m    \u001b[49m\u001b[43mindexer\u001b[49m\u001b[38;5;241;43m=\u001b[39;49m\u001b[43mindexer\u001b[49m\u001b[43m,\u001b[49m\n\u001b[0;32m    966\u001b[0m \u001b[43m    \u001b[49m\u001b[43maxis\u001b[49m\u001b[38;5;241;43m=\u001b[39;49m\u001b[43maxis\u001b[49m\u001b[43m,\u001b[49m\n\u001b[0;32m    967\u001b[0m \u001b[43m    \u001b[49m\u001b[43mallow_dups\u001b[49m\u001b[38;5;241;43m=\u001b[39;49m\u001b[38;5;28;43;01mTrue\u001b[39;49;00m\u001b[43m,\u001b[49m\n\u001b[0;32m    968\u001b[0m \u001b[43m    \u001b[49m\u001b[43mcopy\u001b[49m\u001b[38;5;241;43m=\u001b[39;49m\u001b[38;5;28;43;01mNone\u001b[39;49;00m\u001b[43m,\u001b[49m\n\u001b[0;32m    969\u001b[0m \u001b[43m\u001b[49m\u001b[43m)\u001b[49m\n",
      "File \u001b[1;32mc:\\Users\\debar\\Anaconda3\\envs\\insa\\Lib\\site-packages\\pandas\\core\\internals\\managers.py:764\u001b[0m, in \u001b[0;36mBaseBlockManager.reindex_indexer\u001b[1;34m(self, new_axis, indexer, axis, fill_value, allow_dups, copy, only_slice, use_na_proxy)\u001b[0m\n\u001b[0;32m    761\u001b[0m new_mgr \u001b[38;5;241m=\u001b[39m \u001b[38;5;28mtype\u001b[39m(\u001b[38;5;28mself\u001b[39m)\u001b[38;5;241m.\u001b[39mfrom_blocks(new_blocks, new_axes)\n\u001b[0;32m    762\u001b[0m \u001b[38;5;28;01mif\u001b[39;00m axis \u001b[38;5;241m==\u001b[39m \u001b[38;5;241m1\u001b[39m:\n\u001b[0;32m    763\u001b[0m     \u001b[38;5;66;03m# We can avoid the need to rebuild these\u001b[39;00m\n\u001b[1;32m--> 764\u001b[0m     new_mgr\u001b[38;5;241m.\u001b[39m_blknos \u001b[38;5;241m=\u001b[39m \u001b[38;5;28mself\u001b[39m\u001b[38;5;241m.\u001b[39mblknos\u001b[38;5;241m.\u001b[39mcopy()\n\u001b[0;32m    765\u001b[0m     new_mgr\u001b[38;5;241m.\u001b[39m_blklocs \u001b[38;5;241m=\u001b[39m \u001b[38;5;28mself\u001b[39m\u001b[38;5;241m.\u001b[39mblklocs\u001b[38;5;241m.\u001b[39mcopy()\n\u001b[0;32m    766\u001b[0m \u001b[38;5;28;01mreturn\u001b[39;00m new_mgr\n",
      "\u001b[1;31mKeyboardInterrupt\u001b[0m: "
     ]
    }
   ],
   "source": [
    "epochs = 200\n",
    "batch_size= 32\n",
    "\n",
    "criterion = CustomLoss(alpha = 0.001)\n",
    "optimizer = optim.Adam(network_reconstruction.parameters(), lr=0.0001)\n",
    "\n",
    "wasserstein_dist= torch.Tensor((batch_size))\n",
    "\n",
    "for epoch in range(epochs): \n",
    "    batch1, batch2 = generate_batch(X, batch_size, nb_patches , patch_size)\n",
    "    \n",
    "    output1 , ouput2, reconstructed1, reconstructed2 = network_reconstruction(batch1, batch2)\n",
    "\n",
    "    loss = criterion(batch1, batch2, output1, ouput2, reconstructed1, reconstructed2, batch_size, nb_patches, patch_size)\n",
    "\n",
    "    #print(\"loss\", loss.shape)\n",
    "\n",
    "    loss.backward()\n",
    "\n",
    "    optimizer.step()\n",
    "\n",
    "    if (epoch + 1) % 10== 0:\n",
    "        print(f'Epoch [{epoch+1}/{epochs}], Loss: {loss.item():.4f}')\n"
   ]
  },
  {
   "cell_type": "markdown",
   "id": "f10c838f",
   "metadata": {},
   "source": [
    "# Test of the performances "
   ]
  },
  {
   "cell_type": "code",
   "execution_count": 58,
   "metadata": {},
   "outputs": [],
   "source": [
    "range_test = np.linspace(1, 5000, 10, dtype=int)\n",
    "\n",
    "\n"
   ]
  },
  {
   "cell_type": "code",
   "execution_count": 59,
   "id": "6fc263b1",
   "metadata": {},
   "outputs": [
    {
     "name": "stdout",
     "output_type": "stream",
     "text": [
      "Computing time for batch size 1\n",
      "Pot time : 0.0009982585906982422\n",
      "NN time : 0.03292226791381836\n",
      "Computing time for batch size 556\n",
      "Pot time : 0.4925215244293213\n",
      "NN time : 0.2204113006591797\n",
      "Computing time for batch size 1111\n",
      "Pot time : 0.6037585735321045\n",
      "NN time : 0.24741625785827637\n",
      "Computing time for batch size 1667\n",
      "Pot time : 0.88153076171875\n",
      "NN time : 0.40448951721191406\n",
      "Computing time for batch size 2222\n",
      "Pot time : 1.1883556842803955\n",
      "NN time : 0.5658245086669922\n",
      "Computing time for batch size 2778\n",
      "Pot time : 1.4541423320770264\n",
      "NN time : 0.6197969913482666\n",
      "Computing time for batch size 3333\n",
      "Pot time : 1.8824589252471924\n",
      "NN time : 0.7637944221496582\n",
      "Computing time for batch size 3889\n",
      "Pot time : 2.034459114074707\n",
      "NN time : 0.9166278839111328\n",
      "Computing time for batch size 4444\n",
      "Pot time : 2.298823833465576\n",
      "NN time : 1.007120132446289\n",
      "Computing time for batch size 5000\n",
      "Pot time : 2.6215415000915527\n",
      "NN time : 1.1158177852630615\n"
     ]
    }
   ],
   "source": [
    "\n",
    "times_pot = []\n",
    "times_nn = []\n",
    "\n",
    "\n",
    "for size in range_test:\n",
    "    print(f'Computing time for batch size {size}')\n",
    "    test_batch_size = size.astype(int)\n",
    "    test1, test2 = generate_batch(X, test_batch_size, nb_patches, patch_size)\n",
    "    label_wsr = np.zeros((test_batch_size))\n",
    "\n",
    "\n",
    "\n",
    "    start_time = time.time()\n",
    "\n",
    "    for i in range(test_batch_size):\n",
    "        label_wsr[i] = compute_wasserstein_distance(test1[i], test2[i], nb_patches, patch_size)\n",
    "\n",
    "    end_time = time.time()\n",
    "\n",
    "    time_pot = end_time - start_time\n",
    "    times_pot.append(time_pot)\n",
    "    print(f'Pot time : {time_pot}')\n",
    "\n",
    "\n",
    "    start_time = time.time()\n",
    "\n",
    "    emb1, emb2 = siamese_net(test1, test2)\n",
    "    pred_wsr = compute_euclidean_dist(emb1, emb2)\n",
    "\n",
    "\n",
    "    end_time = time.time()\n",
    "\n",
    "    time_nn = end_time - start_time\n",
    "    times_nn.append(time_nn)\n",
    "    print(f'NN time : {time_nn}')\n",
    "\n",
    "\n"
   ]
  },
  {
   "cell_type": "code",
   "execution_count": 61,
   "id": "a9a1d9c9",
   "metadata": {},
   "outputs": [
    {
     "data": {
      "image/png": "[encoded data removed]",
      "text/plain": [
       "<Figure size 640x480 with 1 Axes>"
      ]
     },
     "metadata": {},
     "output_type": "display_data"
    }
   ],
   "source": [
    "# Plotting\n",
    "plt.plot(range_test, times_pot, label='times_pot')\n",
    "plt.plot(range_test, times_nn, label='times_nn')\n",
    "\n",
    "# Adding labels and legend\n",
    "plt.xlabel('number of transport computed')  \n",
    "plt.ylabel('computation time (seconds)')  # Replace with an appropriate label for the y-axis\n",
    "plt.title('Comparison of computation times for pot and nn')\n",
    "plt.legend()\n",
    "\n",
    "# Display the plot\n",
    "plt.show()"
   ]
  },
  {
   "cell_type": "code",
   "execution_count": 59,
   "id": "949af733",
   "metadata": {},
   "outputs": [],
   "source": [
    "test_batch_size = 100\n",
    "\n",
    "\n",
    "test1, test2 = generate_batch(X, test_batch_size, nb_patches, patch_size)\n",
    "label_wsr = np.zeros((test_batch_size))\n",
    "\n"
   ]
  },
  {
   "cell_type": "code",
   "execution_count": 60,
   "id": "7779b57f",
   "metadata": {},
   "outputs": [
    {
     "name": "stdout",
     "output_type": "stream",
     "text": [
      "POT Wasserstein distance computation time : 0.19877982139587402 seconds\n"
     ]
    }
   ],
   "source": [
    "start_time = time.time()\n",
    "\n",
    "for i in range(test_batch_size):\n",
    "    label_wsr[i] = compute_wasserstein_distance(test1[i], test2[i], nb_patches, patch_size)\n",
    "\n",
    "end_time = time.time()\n",
    "\n",
    "time_pot = end_time - start_time\n",
    "\n",
    "print(f'POT Wasserstein distance computation time : {end_time - start_time} seconds')\n"
   ]
  },
  {
   "cell_type": "code",
   "execution_count": 61,
   "id": "a51bd57a",
   "metadata": {},
   "outputs": [
    {
     "name": "stdout",
     "output_type": "stream",
     "text": [
      "Neural network computation time : 0.08245611190795898 seconds\n"
     ]
    }
   ],
   "source": [
    "start_time = time.time()\n",
    "\n",
    "emb1, emb2 = siamese_net(test1, test2)\n",
    "pred_wsr = compute_euclidean_dist(emb1, emb2)\n",
    "\n",
    "\n",
    "end_time = time.time()\n",
    "\n",
    "time_nn = end_time - start_time\n",
    "\n",
    "print(f'Neural network computation time : {end_time - start_time} seconds')\n",
    "\n"
   ]
  },
  {
   "cell_type": "code",
   "execution_count": 62,
   "id": "18f84374",
   "metadata": {},
   "outputs": [
    {
     "name": "stdout",
     "output_type": "stream",
     "text": [
      "mean error =   0.7213299293518065\n",
      "standard deviation =  0.5368959419140722\n"
     ]
    }
   ],
   "source": [
    "# Mean error between the predicted wasserstein distance and the real wasserstein distance\n",
    "error = abs(pred_wsr.detach().numpy()-label_wsr).mean()\n",
    "\n",
    "# standard deviation of the error\n",
    "std = abs(pred_wsr.detach().numpy()-label_wsr).std()\n",
    "\n",
    "print(\"mean error =  \", error)\n",
    "print(\"standard deviation = \", std)\n"
   ]
  },
  {
   "cell_type": "code",
   "execution_count": 63,
   "id": "f432e9a4",
   "metadata": {},
   "outputs": [
    {
     "name": "stdout",
     "output_type": "stream",
     "text": [
      "Wasserstein distance predicted :  3.669092893600464\n",
      "True Wasserstein distance 3.7738123416900633\n",
      "Wasserstein distance predicted :  2.4657113552093506\n",
      "True Wasserstein distance 3.9548027992248533\n",
      "Wasserstein distance predicted :  3.066206455230713\n",
      "True Wasserstein distance 3.6543036460876466\n",
      "Wasserstein distance predicted :  4.004211902618408\n",
      "True Wasserstein distance 4.47487621307373\n",
      "Wasserstein distance predicted :  5.290560722351074\n",
      "True Wasserstein distance 4.325824403762818\n",
      "Wasserstein distance predicted :  2.7225077152252197\n",
      "True Wasserstein distance 3.979719400405884\n",
      "Wasserstein distance predicted :  5.034512996673584\n",
      "True Wasserstein distance 4.770877361297607\n",
      "Wasserstein distance predicted :  3.5163004398345947\n",
      "True Wasserstein distance 4.441598749160767\n",
      "Wasserstein distance predicted :  3.389476776123047\n",
      "True Wasserstein distance 3.126925086975098\n",
      "Wasserstein distance predicted :  3.8605761528015137\n",
      "True Wasserstein distance 3.947189235687256\n",
      "Wasserstein distance predicted :  6.0351338386535645\n",
      "True Wasserstein distance 4.240042018890382\n",
      "Wasserstein distance predicted :  3.1218295097351074\n",
      "True Wasserstein distance 4.0410205841064455\n",
      "Wasserstein distance predicted :  3.4764699935913086\n",
      "True Wasserstein distance 3.763720393180847\n",
      "Wasserstein distance predicted :  4.123380661010742\n",
      "True Wasserstein distance 4.195279788970947\n",
      "Wasserstein distance predicted :  2.0559163093566895\n",
      "True Wasserstein distance 3.4581186771392822\n",
      "Wasserstein distance predicted :  2.5421652793884277\n",
      "True Wasserstein distance 2.3771034955978396\n",
      "....\n"
     ]
    }
   ],
   "source": [
    "# show the first predicted wasserstein distances and the true wasserstein distances\n",
    "\n",
    "for i in range(batch_size//4):\n",
    "    print(\"Wasserstein distance predicted : \", pred_wsr[i].item())\n",
    "    print(\"True Wasserstein distance\", label_wsr[i])\n",
    "print(\"....\")\n",
    "\n",
    "\n"
   ]
  },
  {
   "cell_type": "code",
   "execution_count": null,
   "id": "9b70904e",
   "metadata": {},
   "outputs": [],
   "source": []
  }
 ],
 "metadata": {
  "kernelspec": {
   "display_name": "Python 3 (ipykernel)",
   "language": "python",
   "name": "python3"
  },
  "language_info": {
   "codemirror_mode": {
    "name": "ipython",
    "version": 3
   },
   "file_extension": ".py",
   "mimetype": "text/x-python",
   "name": "python",
   "nbconvert_exporter": "python",
   "pygments_lexer": "ipython3",
   "version": "3.11.5"
  }
 },
 "nbformat": 4,
 "nbformat_minor": 5
}
